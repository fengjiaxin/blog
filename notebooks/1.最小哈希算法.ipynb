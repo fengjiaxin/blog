{
 "cells": [
  {
   "cell_type": "markdown",
   "metadata": {},
   "source": [
    "## 利用MinHash和LSH寻找相似的集合\n",
    "\n",
    "### 1.问题背景\n",
    "\n",
    "&emsp;&emsp;给出N个集合，找到相似的集合对，如何实现，最简单的方法就是比较任意两个集合，时间复杂度是$O(n^2)$。当n特别大的时候，时间很多，效率很低。如果N个集合中只有少数的几对集合相似，那么浪费很多计算时间，因此需要一种算法，将大体上相似的集合聚在一起，缩小比对的范围，只需检测少量的集合对，就可以找到绝大多数相似的集合对，大幅减少时间开销。接下来讲解如何利用Minhash和LSH实现上述目的，在相似集合较少的情况下，在$O(n)$的时间找到大部分相似的集合对。\n",
    "\n",
    "### 2.Jacard相似度\n",
    "&emsp;&emsp;判断两个集合是否相等，使用Jaccard相似度的算法。例如，集合X = {a,b,c},Y = {b,c,d},那么Jac(X,Y) = 2/3 = 0.67,即X和Y有67%的元素相同。"
   ]
  },
  {
   "cell_type": "markdown",
   "metadata": {},
   "source": [
    "$$Jac(X,Y) = \\frac{X \\cap Y}{X \\cup Y}$$\n",
    "&emsp;&emsp;两个集合的交集/两个集合的并集。范围在[0,1]之间\n",
    "\n",
    "### 3.k-Shingle\n",
    "&emsp;&emsp;假设把一整篇文章看成一个长的字符串，那么k-Shingle就是这边文档中长度为k的任意字符子串，因此一篇文档就有很多个不同的k-Shingle的集合。\n",
    "\n",
    "&emsp;&emsp;尽管用k-Shingle方式来表示每篇文章，然后通过判断每篇文章中shingle集合的相同的元素的数量，就可以得到文章的相似度；但是一篇文章的shingle集合的元素个数很多，假定k=4,这样需要的存储空间大概是原来文档大小的4倍。因此以single的方式存储文章会消耗大量的内存。\n",
    "\n",
    "&emsp;&emsp;接下来需要将上面的single集合替换成规模小很多的“签名”集合，这样可以通过比较两篇文章的签名集合相似度，就能估计shingle的相似度，这样得到的相似度只是原来相似度的近似值。"
   ]
  },
  {
   "cell_type": "markdown",
   "metadata": {},
   "source": [
    "### 3.特征矩阵\n",
    "&emsp;&emsp;特征矩阵的一列就对应一个集合，所有的行加起来就是所有集合元素的全集，如果集合中有那个元素，矩阵中的对应位置为1，否则为0。\n",
    "&emsp;&emsp;假设有2个集合，S1,S2,其中S1 = {a,d,e},S2 = {c,e},全集US = {a,b,c,d,e},这2个集合的特征矩阵如下:\n",
    "\n",
    "| 行号 | 元素 | S1 | S2 | 类别 |\n",
    "|----|----|----|----|----|\n",
    "| 1  | a  | 1  | 0  | Y  |\n",
    "| 2  | b  | 0  | 0  | Z  |\n",
    "| 3  | c  | 0  | 1  | Y  |\n",
    "| 4  | d  | 1  | 0  | Y  |\n",
    "| 5  | e  | 1  | 1  | X  |\n",
    "\n",
    "&emsp;&emsp;其中类别表示如下：\n",
    "* X类：均为1，表示这两个集合都有该行元素\n",
    "* Y类：一个为1，一个为0，表明其中一个集合含有该元素，另一个集合不含该元素\n",
    "* Z类：均为0，表示连个集合都没有该元素\n"
   ]
  },
  {
   "cell_type": "markdown",
   "metadata": {},
   "source": [
    "### 4.minHash\n",
    "构建集合的特征矩阵是为了计算集合的最小哈希。\n",
    "\n",
    "&emsp;&emsp;minHash算法大体思路：采用一种hash函数，将元素的位置均匀打乱，然后将新顺序下每个集合第一个元素作为该集合的特征值，假设hash函数$h_1(i) = (i+1)%5$,其中i为行号，作用与集合S1,S2,得到结果如下：\n",
    "\n",
    "| 行号 | 元素 | S1 | S2 | 类别 |\n",
    "|----|----|----|----|----|\n",
    "| 1  | e  | 1  | 1  | X  |\n",
    "| 2  | a  | 1  | 0  | Y  |\n",
    "| 3  | b  | 0  | 0  | Z  |\n",
    "| 4  | c  | 0  | 1  | Y  |\n",
    "| 5  | d  | 1  | 0  | Y  |\n",
    "\n",
    "&emsp;&emsp;此时minHash(S1) = e,minHash(S2) = e,也就是说用元素e表示S1,用元素e表示S2，那么是否科学？如果minHash(S1) = minHash(S2),是否代表S1和S2类似呢？\n",
    "\n",
    "$$P(minHash(S_1) == minHash(S_2) = Jac(S_1,S_2))$$\n",
    "\n",
    "&emsp;&emsp;这里忽略所有的Z类的行，因为此类行对两个集合是否相似没有任何贡献，由于哈希函数将原始行号均匀分布到新的行号，这样可以认为在新的行号排列下，任意一行出现X类的情况的概率为|X|/(|X|+|Y|)。这里为了方便，将任意位置设为第一个出现X类行的行号。所以P(第一个出现X类) = |X|/(|X|+|Y|) = Jac(S1,S2)。这里很重要的一点就是要保证哈希函数可以将数值均匀分布，尽量减少冲撞。\n",
    "\n",
    "### 5.minHash签名矩阵\n",
    "&emsp;&emsp;一般而言，会找出一系列的哈希函数，比如h个（h << |U|），为每一个集合计算h次Minhash值，然后用h个Minhash值组成一个minHash签名矩阵来表示当前集合（注意Minhash的值的位置需要保持一致）。举个列子，还是基于上面的例子，现在又有一个哈希函数h2(i) = (i -1)% 5。那么得到如下集合：\n",
    "\n",
    "| 行号 | 元素 | S1 | S2 | 类别 |\n",
    "|----|----|----|----|----|\n",
    "| 1  | b  | 0  | 0  | Z  |\n",
    "| 2  | c  | 0  | 1  | Y  |\n",
    "| 3  | d  | 1  | 0  | Y  |\n",
    "| 4  | e  | 1  | 1  | X  |\n",
    "| 5  | a  | 1  | 0  | Y  |"
   ]
  },
  {
   "cell_type": "markdown",
   "metadata": {},
   "source": [
    "&emsp;&emsp;minHash签名矩阵如下：\n",
    "\n",
    "| hash函数                   | S1 | S2 |\n",
    "|--------------------------|----|----|\n",
    "| h1\\(i\\) = \\(i \\+ 1\\) % 5 | e  | e  |\n",
    "| h2\\(i\\) = \\(i \\- 1\\) % 5 | d  | c  |\n",
    "\n",
    "&emsp;&emsp;从上可以得出一个结论，另X表示minHash摘要后的集合对应行相等的次数。X符合次数为h,概率为$Jac(S_1,S_2)$的二项分布。\n",
    "$$X ~ B(h,Jac(S_1,S_2))$$\n",
    "因此，minHash在压缩原始集合的情况下，保证了集合的相似度没有被破坏。"
   ]
  },
  {
   "cell_type": "markdown",
   "metadata": {},
   "source": [
    "### 6.最小签名计算\n",
    "&emsp;&emsp;得到上述的minHash签名矩阵，就可以计算签名矩阵中列与列之间的相似度来计算集合间的jac相似度；但是会有一个问题，当一个矩阵包含的元素很大时，那么对其进行多次打乱是非常耗时的。为了解决这个问题，可以通过一些随机hash函数来模拟打乱的效果。具体做法如下:\n",
    "&emsp;&emsp;假设进行两次打乱，选用2个随机hash函数,$h_1,h_2$,处理过程如下：\n",
    "令SIG(i,c)表示签名矩阵中第i个hash函数在第c列上的元素，开始时，将所有的SIG(i,c)初始化为Inf,然后对第r行进行如下处理：\n",
    "* 1.计算$h_1(r),h_2(r)$\n",
    "* 2.对于每一列c:\n",
    "    * a.如果c所在的第r行为0，pass\n",
    "    * b.如果c所在的第r行为1，则对于每个i=1,2…n，将SIG(i,c)置为原来的SIG(i,c)和hi(r)之间的最小值。\n",
    "    \n",
    "&emsp;&emsp;假设上面的特征矩阵，添加两个hash函数,h1(x) = (x+1)%5,h2(x) = (x-1)%5,其中x为行号\n",
    "\n",
    "| 行号 | 元素 | S1 | S2 | 类别 | h1 | h2 |\n",
    "|----|----|----|----|----|----|----|\n",
    "| 1  | a  | 1  | 0  | Y  | 2  | 0  |\n",
    "| 2  | b  | 0  | 0  | Z  | 3  | 1  |\n",
    "| 3  | c  | 0  | 1  | Y  | 4  | 2  |\n",
    "| 4  | d  | 1  | 0  | Y  | 0  | 3  |\n",
    "| 5  | e  | 1  | 1  | X  | 1  | 4  |\n",
    "\n",
    "接下来计算签名矩阵，一开始时，全部初始化为Inf\n",
    "\n",
    "| hash函数 | S1  | S2  |\n",
    "|--------|-----|-----|\n",
    "| h1     | Inf | Inf |\n",
    "| h2     | Inf | Inf |\n",
    "\n",
    "1.查看特征矩阵的第1行，此时S2 = 0,无需改动，S1的值为1，需改动，s1_h1 = 2 < Inf,s1_h2 = 0 < Inf,\n",
    "所以将S1位置对应的值替换掉，替换后的效果如下:\n",
    "\n",
    "| hash函数 | S1 | S2  |\n",
    "|--------|----|-----|\n",
    "| h1     | 2  | Inf |\n",
    "| h2     | 0  | Inf |\n",
    "\n",
    "2.查看矩阵第2行，是Z类别，pass\n",
    "3.查看矩阵第3行，S1 = 0,无需改动，S2的值为1，需改动，s2_h1 =4 < Inf,s2_h2 = 2 < Inf,\n",
    "所以将S2位置对应的值替换掉，替换后的效果如下:\n",
    "\n",
    "| hash函数 | S1 | S2  |\n",
    "|--------|----|-----|\n",
    "| h1     | 2  | 4   |\n",
    "| h2     | 0  | 2   |\n",
    "\n",
    "4.查看矩阵第4行，S2 = 0,无需改动，S1的值为1，需改动，s1_h1 =0 < s1_h1_prev,s1_h2 = 3 > s1_h2_previous,\n",
    "所以将S2位置对应的值替换掉，替换后的效果如下:\n",
    "\n",
    "| hash函数 | S1 | S2  |\n",
    "|--------|----|-----|\n",
    "| h1     | 0  | 4 |\n",
    "| h2     | 0  | 2 |\n",
    "\n",
    "5.查看矩阵第5行，S2 = 1,S1的值为1，需改动，s1_h1 =1 > s1_h1_prev,s1_h2 = 4 > s1_h2_previous, s2_h1 = 1 < s2_h1_prev,s2_h2 = 4 > s2_h2_prev\n",
    "所以将S2位置对应的值替换掉，替换后的效果如下:\n",
    "\n",
    "| hash函数 | S1 | S2  |\n",
    "|--------|----|-----|\n",
    "| h1     | 0  | 1 |\n",
    "| h2     | 0  | 2 |\n",
    "\n",
    "基于这个签名矩阵，可以估计原始集合之间的Jac相似度"
   ]
  },
  {
   "cell_type": "markdown",
   "metadata": {},
   "source": [
    "### 7.LSH(局部哈希敏感)\n",
    "\n",
    "&emsp;&emsp;现在有了原始集合的签名矩阵，但是还没有解决最初的问题，仍然需要遍历所有的集合对，才能得到所有相似的集合对，复杂度仍然是$O(n^2)$，解决这个问题的核心思想是LSH,其基本思路是将相似的集合聚集到一起，减小查找范围，避免比较不相似的集合。举例说明，现在有5个集合，计算出对应的Minhash矩阵\n",
    "\n",
    "![1](../picture/1/01.jpg)\n",
    "\n",
    "\n",
    "&emsp;&emsp;假设有h = 12个不同的hash函数，然后分成了B = 4 个区间，之前的结论\n",
    "$$r = P(minHash(S_1) == minHash(S_2) = Jac(S_1,S_2))$$\n",
    "\n",
    "&emsp;&emsp;先分析区间1，在区间1内,$P(S1 == S2) = r^3$,同理$P(S1 != S2) = 1 - r^3$。所以只要S1和S2的Jac相似度约高，在区间1内越有可能完全一致，那么现在有4个区间，其他区间与第一个区间情况相同。\n",
    "$$P(4个区间上,集合S1都不等与S2) = (1 - r^3)^4$$\n",
    "$$P(4个区间上,至少有一个区间,集合S1=S2) = 1 - (1 - r^3)^4$$\n",
    "\n",
    "&emsp;&emsp;这里的概率函数是r的函数，S型曲线,如下图:\n",
    "\n",
    "![2](../picture/1/02.jpg)\n",
    "\n",
    "&emsp;&emsp;如果令区间个数为B，每个区间的行数为C,那么上面的公式可以形式的表示为:\n",
    "$$P(B个区间上,至少有一个区间中两个集合相等) = 1 - (1 - r^C)^B$$\n",
    "\n",
    "&emsp;&emsp;令r = 0.4,C = 3,B = 100,上述公式计算的概率为0.9986,这表明两个Jac相似度为0.4的集合在至少一个区间内冲撞的概率为0.9986。据这一事实，我们只需要选取合适的B和C，和一个冲撞率很低的hash函数，就可以将相似的集合至少在一个区间内冲撞，这样也就达成了本节最开始的目的：将相似的集合放到一起。\n",
    "\n",
    "&emsp;&emsp;具体方法:为B个区间准备B个hash表，和区间编号一一对应，然后用hash函数将每个区间的部分集合映射到对应的hash表里，最后遍历所有的hash表，将冲撞的集合最为候选对象进行比较，找出相似的集合对，时间复杂度O(n)"
   ]
  },
  {
   "cell_type": "code",
   "execution_count": 13,
   "metadata": {},
   "outputs": [],
   "source": [
    "import math\n",
    "def get_possibility(r=0.4,B=100,C=3):\n",
    "    a = 1 - math.pow(r,C)\n",
    "    b = math.pow(a,B)\n",
    "    print('%.5f'%(1-b))"
   ]
  },
  {
   "cell_type": "code",
   "execution_count": 25,
   "metadata": {},
   "outputs": [
    {
     "name": "stdout",
     "output_type": "stream",
     "text": [
      "0.98692\n"
     ]
    }
   ],
   "source": [
    "get_possibility(r=0.6,B=256,C=8)"
   ]
  },
  {
   "cell_type": "code",
   "execution_count": 33,
   "metadata": {},
   "outputs": [
    {
     "data": {
      "text/plain": [
       "8388608.0"
      ]
     },
     "execution_count": 33,
     "metadata": {},
     "output_type": "execute_result"
    }
   ],
   "source": [
    "math.pow(2,23)"
   ]
  },
  {
   "cell_type": "markdown",
   "metadata": {},
   "source": [
    "### 8.分析fingerprint原理"
   ]
  },
  {
   "cell_type": "code",
   "execution_count": 1,
   "metadata": {},
   "outputs": [],
   "source": [
    "from mhfp.encoder import MHFPEncoder\n",
    "import numpy as np"
   ]
  },
  {
   "cell_type": "code",
   "execution_count": 2,
   "metadata": {},
   "outputs": [],
   "source": [
    "smiles = 'CCCC(N)=O'\n",
    "shing_list = MHFPEncoder.shingling_from_smiles(smiles,radius=2)"
   ]
  },
  {
   "cell_type": "code",
   "execution_count": 3,
   "metadata": {},
   "outputs": [
    {
     "data": {
      "text/plain": [
       "[b'C(CC)C(N)=O',\n",
       " b'CCC',\n",
       " b'C(C)(N)=O',\n",
       " b'CC',\n",
       " b'NC(C)=O',\n",
       " b'C(C)C',\n",
       " b'O=C',\n",
       " b'C(N)(=O)CC',\n",
       " b'C(C)CC',\n",
       " b'NC',\n",
       " b'O=C(C)N']"
      ]
     },
     "execution_count": 3,
     "metadata": {},
     "output_type": "execute_result"
    }
   ],
   "source": [
    "shing_list"
   ]
  },
  {
   "cell_type": "markdown",
   "metadata": {},
   "source": [
    "![3](../picture/1/smiles.png)"
   ]
  },
  {
   "cell_type": "code",
   "execution_count": 4,
   "metadata": {},
   "outputs": [],
   "source": [
    "array = MHFPEncoder.hash(shing_list)"
   ]
  },
  {
   "cell_type": "code",
   "execution_count": 5,
   "metadata": {},
   "outputs": [
    {
     "data": {
      "text/plain": [
       "array([1627724594, 3576849620, 3666611996, 3732318661,  870539614,\n",
       "       2532216547, 3353310039, 3042321185,  721425337, 3113428206,\n",
       "       2367749245])"
      ]
     },
     "execution_count": 5,
     "metadata": {},
     "output_type": "execute_result"
    }
   ],
   "source": [
    "array"
   ]
  },
  {
   "cell_type": "code",
   "execution_count": 6,
   "metadata": {},
   "outputs": [],
   "source": [
    "folded = MHFPEncoder.fold(array,1024)"
   ]
  },
  {
   "cell_type": "code",
   "execution_count": 7,
   "metadata": {},
   "outputs": [
    {
     "data": {
      "text/plain": [
       "array([0, 0, 0, ..., 0, 0, 0], dtype=uint8)"
      ]
     },
     "execution_count": 7,
     "metadata": {},
     "output_type": "execute_result"
    }
   ],
   "source": [
    "folded"
   ]
  },
  {
   "cell_type": "code",
   "execution_count": 8,
   "metadata": {},
   "outputs": [],
   "source": [
    "def getOnePos(array):\n",
    "    res = []\n",
    "    for index,i in enumerate(array):\n",
    "        if i == 1:\n",
    "            res.append(str(index))\n",
    "    return ' '.join(res)"
   ]
  },
  {
   "cell_type": "code",
   "execution_count": 9,
   "metadata": {},
   "outputs": [
    {
     "data": {
      "text/plain": [
       "'125 212 238 350 453 739 796 801 818 855 953'"
      ]
     },
     "execution_count": 9,
     "metadata": {},
     "output_type": "execute_result"
    }
   ],
   "source": [
    "getOnePos(folded)"
   ]
  },
  {
   "cell_type": "code",
   "execution_count": null,
   "metadata": {},
   "outputs": [],
   "source": []
  },
  {
   "cell_type": "code",
   "execution_count": null,
   "metadata": {},
   "outputs": [],
   "source": []
  }
 ],
 "metadata": {
  "kernelspec": {
   "display_name": "Python 3",
   "language": "python",
   "name": "python3"
  },
  "language_info": {
   "codemirror_mode": {
    "name": "ipython",
    "version": 3
   },
   "file_extension": ".py",
   "mimetype": "text/x-python",
   "name": "python",
   "nbconvert_exporter": "python",
   "pygments_lexer": "ipython3",
   "version": "3.6.7"
  }
 },
 "nbformat": 4,
 "nbformat_minor": 2
}
